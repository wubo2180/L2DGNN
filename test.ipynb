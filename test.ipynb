{
 "cells": [
  {
   "cell_type": "code",
   "execution_count": 1,
   "metadata": {},
   "outputs": [
    {
     "ename": "TypeError",
     "evalue": "nonzero() missing 1 required positional arguments: \"input\"",
     "output_type": "error",
     "traceback": [
      "\u001b[1;31m---------------------------------------------------------------------------\u001b[0m",
      "\u001b[1;31mTypeError\u001b[0m                                 Traceback (most recent call last)",
      "Cell \u001b[1;32mIn[1], line 3\u001b[0m\n\u001b[0;32m      1\u001b[0m \u001b[39mimport\u001b[39;00m \u001b[39mtorch\u001b[39;00m\n\u001b[0;32m      2\u001b[0m adj \u001b[39m=\u001b[39m torch\u001b[39m.\u001b[39mtensor([[\u001b[39m0.0\u001b[39m,\u001b[39m1.0\u001b[39m,\u001b[39m1.0\u001b[39m],[\u001b[39m1.0\u001b[39m,\u001b[39m0.0\u001b[39m,\u001b[39m1.0\u001b[39m]])\n\u001b[1;32m----> 3\u001b[0m a \u001b[39m=\u001b[39m torch\u001b[39m.\u001b[39;49mnonzero ()\n\u001b[0;32m      4\u001b[0m \u001b[39mprint\u001b[39m(a)\n",
      "\u001b[1;31mTypeError\u001b[0m: nonzero() missing 1 required positional arguments: \"input\""
     ]
    }
   ],
   "source": [
    "import torch\n",
    "adj = torch.tensor([[0.0,1.0,1.0],[1.0,0.0,1.0]])\n",
    "a = torch.nonzero ()\n",
    "print(a)"
   ]
  }
 ],
 "metadata": {
  "kernelspec": {
   "display_name": "base",
   "language": "python",
   "name": "python3"
  },
  "language_info": {
   "codemirror_mode": {
    "name": "ipython",
    "version": 3
   },
   "file_extension": ".py",
   "mimetype": "text/x-python",
   "name": "python",
   "nbconvert_exporter": "python",
   "pygments_lexer": "ipython3",
   "version": "3.10.9"
  },
  "orig_nbformat": 4
 },
 "nbformat": 4,
 "nbformat_minor": 2
}
